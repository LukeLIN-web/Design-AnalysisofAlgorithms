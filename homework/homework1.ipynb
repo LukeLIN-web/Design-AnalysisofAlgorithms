{
 "cells": [
  {
   "cell_type": "markdown",
   "metadata": {},
   "source": [
    "Problem1\n",
    "\n",
    "$$\n",
    "n^n > (\\sqrt n ^n) > 2^{(n/logn)} > 2^{(n^{2/3})} > 10^{-6}n^7 > n/logn >\\sqrt n logn > loglogn > 0.0003 >1/n^3\n",
    "$$\n",
    "\n",
    "\n",
    "Problem6"
   ]
  },
  {
   "cell_type": "code",
   "execution_count": 1,
   "metadata": {},
   "outputs": [
    {
     "name": "stdout",
     "output_type": "stream",
     "text": [
      "4\n"
     ]
    }
   ],
   "source": [
    "n = 10\n",
    "C = [0] * 5 \n",
    "B = [1] * 5\n",
    "A =  C+B \n",
    "# print(A )\n",
    "def solution6a( arr):\n",
    "    i = 0 \n",
    "    j = n-1\n",
    "    while i <= j :\n",
    "        mid = (i +j)//2\n",
    "        if arr[mid] == 1 :\n",
    "            j = mid - 1\n",
    "        elif arr[mid] == 0 and arr[mid +1] == 1:\n",
    "            return mid \n",
    "        else:\n",
    "            i = mid +1\n",
    "    return i \n",
    "print(solution6a(A))"
   ]
  },
  {
   "cell_type": "markdown",
   "metadata": {},
   "source": [
    "Justify the time complexity of the algorithm :\n",
    "\n",
    " T(n) = T(n/2) + O(1)\n",
    "\n",
    "Using Master's theorem case 2  to calculate"
   ]
  },
  {
   "cell_type": "code",
   "execution_count": 2,
   "metadata": {},
   "outputs": [
    {
     "name": "stdout",
     "output_type": "stream",
     "text": [
      "4\n"
     ]
    }
   ],
   "source": [
    "B2 = [1] * 5000\n",
    "A = C+B2\n",
    "def solution6b( arr):\n",
    "    i = 0\n",
    "    step = 1\n",
    "    dir = 1 \n",
    "    while  arr[i] == 0:\n",
    "        i = i +  dir * step\n",
    "        if arr[i+1] == 1 and arr[i] == 0:\n",
    "            return i \n",
    "        elif arr[i+1] == 0 and arr[i] == 0:\n",
    "            step *=2 \n",
    "    dir = -1\n",
    "    step//=2\n",
    "    while not ( arr[i+1] == 1 and arr[i] == 0):\n",
    "        i = i +  dir * step\n",
    "        if arr[i+1] == 1 and arr[i] == 0:\n",
    "            return i \n",
    "        elif arr[i+1] == 0 and arr[i] == 0:\n",
    "            step //=2 \n",
    "            dir = 1\n",
    "        elif arr[i] == 1:\n",
    "            dir = -1\n",
    "            step //=2 \n",
    "    return i \n",
    "print(solution6b(A))   "
   ]
  },
  {
   "cell_type": "markdown",
   "metadata": {},
   "source": [
    "Problem 11\n",
    "\n",
    "\n",
    "Firstly, we get the reverse graph.\n",
    "Secondly, we choose `a` as the first node,\n",
    "\n",
    "In origin graph:  L0 is `a`, L1 is `b` and `d` , L2 is `c` and `g`,  L3 is `e` and `f`\n",
    "In reverse graph: L0 is `a`, and then end.\n",
    "The overlap between the nodes found by two trees is only `a`, so {a} is a strongly connected component. \n",
    "\n",
    "Then we choose another node except `a` to do a tree search.  \n",
    "We choose `b`.\n",
    "In the origin graph:  L0 is `b`   L1 is `g` ,  L2 is `e` , L3 is `c` and `f`\n",
    "In reverse graph: L0 is `b` ,    L1 is `c` and `d` , L2 is `e`, L3 is `g`, L4 is `b`  and it is end . \n",
    "The overlap between the nodes found by two trees is  {e g b c}, so  {e g b c} is a strongly connected component. \n",
    "\n",
    "Then we move to `d` , which is not in any strongly connected components.  \n",
    "In the origin graph:  L0 is `d`   L1 is `c`,  L2 is `g`\n",
    "In reverse graph:  L0 is `d`   L1 is `a` \n",
    "The overlap between the nodes found by two trees is  {d}, so  {d} is a strongly connected component. \n",
    "\n",
    "Then we move to `f` , which is not in any strongly connected components.  \n",
    "In the origin graph:  L0 is `f`  \n",
    "In reverse graph:  L0 is `f`   L1 is `c` and `e` , L2 is `g` and `d` \n",
    "The overlap between the nodes found by two trees is  {f}, so  {f} is a strongly connected component. \n",
    "\n",
    "Overall, the strongly connected components are {a},  {e g b c}, {d} and {f} \n",
    "\n",
    "reference: https://stackoverflow.com/questions/53437095/strongly-connected-components-with-bfs\n",
    "one topo bfs, vistied , and then reverse graph https://oi-wiki.org/graph/scc/\n",
    "https://leetcode.cn/submissions/detail/189908577/"
   ]
  },
  {
   "cell_type": "code",
   "execution_count": 2,
   "metadata": {},
   "outputs": [
    {
     "name": "stdout",
     "output_type": "stream",
     "text": [
      "4\n"
     ]
    }
   ],
   "source": [
    "# 16\n",
    "# str1 = \"STATIONARY\"\n",
    "# str2 = \"TERTIARY\"\n",
    "\n",
    "def minDistance(word1: str, word2: str) -> int:\n",
    "    n1, n2 = len(word1), len(word2)\n",
    "    dp = [[0 for i in range(n2 + 1)]for j in range(n1+1)]\n",
    "    for i in range(n2+1):\n",
    "        dp[0][i] = i\n",
    "    for i in range(n1+1):\n",
    "        dp[i][0] = i\n",
    "\n",
    "    for i in range(1, n1+1):\n",
    "        for j in range(1, n2+1):\n",
    "            if word1[i-1] == word2[j-1]:\n",
    "                dp[i][j] = 1 + min(dp[i-1][j], dp[i][j-1], dp[i-1][j-1] - 1)\n",
    "            else:\n",
    "                dp[i][j] = 1 + min(dp[i-1][j], dp[i][j-1], dp[i-1][j-1])\n",
    "    return dp[n1][n2]\n",
    "\n",
    "str1 = \"status\"\n",
    "str2 = \"tart\"\n",
    "print(minDistance(str1,str2))"
   ]
  },
  {
   "cell_type": "markdown",
   "metadata": {},
   "source": [
    "so the answer is 5"
   ]
  },
  {
   "cell_type": "code",
   "execution_count": null,
   "metadata": {},
   "outputs": [],
   "source": [
    "from typing import List\n",
    "class Solution:\n",
    "    def possibleBipartition(self, n: int, dislikes: List[List[int]]) -> bool:\n",
    "        "
   ]
  }
 ],
 "metadata": {
  "kernelspec": {
   "display_name": "Python 3.6.8 64-bit",
   "language": "python",
   "name": "python3"
  },
  "language_info": {
   "codemirror_mode": {
    "name": "ipython",
    "version": 3
   },
   "file_extension": ".py",
   "mimetype": "text/x-python",
   "name": "python",
   "nbconvert_exporter": "python",
   "pygments_lexer": "ipython3",
   "version": "3.9.6"
  },
  "orig_nbformat": 4,
  "vscode": {
   "interpreter": {
    "hash": "31f2aee4e71d21fbe5cf8b01ff0e069b9275f58929596ceb00d14d90e3e16cd6"
   }
  }
 },
 "nbformat": 4,
 "nbformat_minor": 2
}
