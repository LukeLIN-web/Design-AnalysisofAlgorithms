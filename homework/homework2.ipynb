{
 "cells": [
  {
   "cell_type": "markdown",
   "metadata": {},
   "source": [
    "# Problem1\n",
    "\n",
    "Let G be a connected undirected weighted graph such that no two edges have the same weight. Prove that G has a unique minimum cost spanning tree.\n",
    "\n",
    "\n",
    "We can prove that Prim algorithm can find a minimum cost spanning tree.\n",
    "\n",
    "Basis: Obviously holds when there is only one node.\n",
    "\n",
    "Generalization: If a step holds, the current set of edges is F , which belongs to T the MST, and the next step is to join the edge e .\n",
    "\n",
    "If e belongs to T , then it holds.\n",
    "\n",
    "Otherwise consider another edge f on the ring T+e that can be added to the current edge set .\n",
    "\n",
    "First, the weight of f must not be smaller than the weight of e, otherwise f would be chosen over e. Then, the weight of f must not be smaller than the weight of e.\n",
    "\n",
    "Then, the weight of f must be no greater than the weight of f , otherwise T+e-f would be a smaller spanning tree.\n",
    "\n",
    "Thus, e and f have equal weights, and T+e-f is also a minimum spanning tree and contains F .\n",
    "\n",
    "And since no two edges have the same weight, there is no any f in this proces, the minimum spanning tree is unique.\n",
    "\n",
    "\n",
    "\n",
    "# Problem6\n",
    "\n",
    "Apply contraction algorithm to the given graph. Edges should be contracted using\n",
    "the given order of edges such that the edge with the lowest index is contracted first.\n",
    "\n",
    "Edge numbering: (a,b) – 1, (a,d) – 2, (b,d) – 3, (c,d) – 4, (c,g) – 5, (d,g) – 6, (d,f) – 7, (d,e) – 8, (e,f) – 9, (f,g) – 10."
   ]
  },
  {
   "cell_type": "markdown",
   "metadata": {},
   "source": [
    "# problem11\n",
    "For a set cover problem U,F, construct a cover using greedy algorithm: U = {1,2,3,4,5,6,7}, F = {S1,S2,S3,S4,S5},\n",
    "S1 = {1,2,7}, S2 = {2,3,4}, S3 = {3,6}, S4 = {4,5}, S5 = {3,4}.\n",
    "\n",
    "\n",
    "Answer:\n",
    "```\n",
    "All cost is same, we can set as 1.\n",
    "First iteration:\n",
    "I = {}\n",
    "The per new element cost for S1 =  Cost(S1)/|S1 – I| = 1/3 \n",
    "The per new element cost for S2 =  Cost(S2)/|S2 – I| = 1/3\n",
    "The per new element cost for S3 =  Cost(S3)/|S3 – I| = 1/2\n",
    "The per new element cost for S4 =  Cost(S4)/|S4 – I| = 1/2\n",
    "The per new element cost for S5 =  Cost(S5)/|S5 – I| = 1/2\n",
    "Since S1 has minimum value S1 is added, I becomes {1,2,7}.\n",
    "Second iteration:\n",
    "The per new element cost for S2 =  Cost(S2)/|S2 – I| = 1/2\n",
    "The per new element cost for S3 =  Cost(S3)/|S3 – I| = 1/2\n",
    "The per new element cost for S4 =  Cost(S4)/|S4 – I| = 1/2\n",
    "The per new element cost for S5 =  Cost(S5)/|S5 – I| = 1/2\n",
    "Since S2 has minimum value S2 is added, I becomes {1,2,3,4,7}.\n",
    "Third iteration:\n",
    "The per new element cost for S3 =  Cost(S3)/|S3 – I| = 1/1\n",
    "The per new element cost for S4 =  Cost(S4)/|S4 – I| = 1/1\n",
    "The per new element cost for S5 =  Cost(S5)/|S5 – I| = 1/0\n",
    "Since S5 has minimum value S3 is added, I becomes {1,2,3,4,6,7}.\n",
    "Fourth iteration:\n",
    "The per new element cost for S4 =  Cost(S4)/|S4 – I| = 1/1\n",
    "The per new element cost for S5 =  Cost(S5)/|S5 – I| = 1/0\n",
    "Since S5 has minimum value S4 is added, I becomes {1,2,3,4,5,6,7}.\n",
    "```"
   ]
  },
  {
   "cell_type": "markdown",
   "metadata": {},
   "source": [
    "# problem12\n",
    "Find the cardinality of a maximum independent set of the following tree using dynamicprogramming algorithm.\n",
    "\n",
    "We need choose from the leaves.\n",
    "```\n",
    "I(k) = 1\n",
    "I(l) = 1 \n",
    "I(m) = 1\n",
    "I(h) = max{ I(k) +I(l), 1 + 0} = 2\n",
    "I(i) = max{ I(m) , 1 + 0} = 1\n",
    "I(j) = 1\n",
    "I(e) = max{ I(h) + I(i), 1 + I(k) + I(l) +I(m)} = 4\n",
    "I(f) = 1\n",
    "I(g) = max{ 1+ 0, I(j)} = 1\n",
    "I(b) = max{ I(e) + I(f), 1 + I(h) + I(i)} = 5\n",
    "I(c) = 1\n",
    "I(d) = max{ I(g) , 1 + I(j)} = 2\n",
    "I(a) = max{ I(b) + I(c) +I(d), 1 + I(e) + I(f) + I(g)} = 8\n",
    "```\n",
    "So the answer is 8"
   ]
  }
 ],
 "metadata": {
  "kernelspec": {
   "display_name": "Python 3.6.8 64-bit",
   "language": "python",
   "name": "python3"
  },
  "language_info": {
   "codemirror_mode": {
    "name": "ipython",
    "version": 3
   },
   "file_extension": ".py",
   "mimetype": "text/x-python",
   "name": "python",
   "nbconvert_exporter": "python",
   "pygments_lexer": "ipython3",
   "version": "3.9.6"
  },
  "orig_nbformat": 4,
  "vscode": {
   "interpreter": {
    "hash": "31f2aee4e71d21fbe5cf8b01ff0e069b9275f58929596ceb00d14d90e3e16cd6"
   }
  }
 },
 "nbformat": 4,
 "nbformat_minor": 2
}
